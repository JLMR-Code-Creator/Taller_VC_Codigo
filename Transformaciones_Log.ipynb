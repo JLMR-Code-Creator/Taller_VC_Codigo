{
  "nbformat": 4,
  "nbformat_minor": 0,
  "metadata": {
    "colab": {
      "name": "Transformaciones Log.ipynb",
      "provenance": [],
      "collapsed_sections": [],
      "mount_file_id": "1is-QbgGoNDRUQS69C0_zA7k7V2uirIa-",
      "authorship_tag": "ABX9TyPraOQelAe3Z6eutFMg1d7P",
      "include_colab_link": true
    },
    "kernelspec": {
      "name": "python3",
      "display_name": "Python 3"
    }
  },
  "cells": [
    {
      "cell_type": "markdown",
      "metadata": {
        "id": "view-in-github",
        "colab_type": "text"
      },
      "source": [
        "<a href=\"https://colab.research.google.com/github/JLMR-Code-Creator/Taller_VC_Codigo/blob/main/Transformaciones_Log.ipynb\" target=\"_parent\"><img src=\"https://colab.research.google.com/assets/colab-badge.svg\" alt=\"Open In Colab\"/></a>"
      ]
    },
    {
      "cell_type": "code",
      "execution_count": null,
      "metadata": {
        "id": "RWSJpsyKqHjH"
      },
      "outputs": [],
      "source": [
        "from google.colab import files\n",
        "uploaded = files.upload()\n",
        "for fn in uploaded.keys():\n",
        "  print('Archivo \"{name}\" tamaño {length} bytes'.format(\n",
        "      name=fn, length=len(uploaded[fn])))"
      ]
    },
    {
      "cell_type": "code",
      "source": [
        "def imadjust(x,a,b,c,d,gamma=0):  \n",
        "   if gamma == 0:\n",
        "    y = 255 - x\n",
        "   else:\n",
        "    y = (((x - a) / (b - a)) ** gamma) * (d - c) + c    \n",
        "   return y"
      ],
      "metadata": {
        "id": "Dt0ndbvOZ3j2"
      },
      "execution_count": null,
      "outputs": []
    },
    {
      "cell_type": "code",
      "source": [
        "import cv2\n",
        "import numpy as np\n",
        "from matplotlib import pyplot as plt\n",
        "from matplotlib.pyplot import figure"
      ],
      "metadata": {
        "id": "zVO0xPOJ9of6"
      },
      "execution_count": null,
      "outputs": []
    },
    {
      "cell_type": "code",
      "source": [
        "img = cv2.imread('Fig0304.tif', 0)\n",
        "print(img.dtype)\n",
        "imgLogNegativo=imadjust(img,0,1,0,0)\n",
        "figure(figsize=(8, 6), dpi=100)\n",
        "plt.subplot(1,2,1),plt.imshow(img, cmap='gray'), plt.title('Imagen original')\n",
        "plt.xticks([]), plt.yticks([])\n",
        "plt.subplot(1,2,2),plt.imshow(imgLogNegativo, cmap='gray'), plt.title('Negativo')\n",
        "plt.xticks([]), plt.yticks([])\n",
        "plt.show()"
      ],
      "metadata": {
        "id": "u9LH7DhDc-uI"
      },
      "execution_count": null,
      "outputs": []
    },
    {
      "cell_type": "code",
      "source": [
        "img = cv2.imread('Fig0305.tif', 0)\n",
        "c = 1\n",
        "log_image  = c * (np.log(img + 1))\n",
        "log_image  = np.array(log_image , dtype = np.uint8)\n",
        "\n",
        "figure(figsize=(8, 6), dpi=100)\n",
        "plt.subplot(1,2,1),plt.imshow(img, cmap='gray'), plt.title('Imagen original')\n",
        "plt.xticks([]), plt.yticks([])\n",
        "plt.subplot(1,2,2),plt.imshow(log_image , cmap='gray'), plt.title('Negativo')\n",
        "plt.xticks([]), plt.yticks([])\n",
        "plt.show()"
      ],
      "metadata": {
        "id": "9IljUty5mTmN"
      },
      "execution_count": null,
      "outputs": []
    },
    {
      "cell_type": "code",
      "source": [
        "img = cv2.imread('Fig0309.tif', 0)\n",
        "imgLog3=imadjust(img,0,1,0,1, 3)\n",
        "imgLog4=imadjust(img,0,1,0,1, 4)\n",
        "imgLog5=imadjust(img,0,1,0,1, 5)\n",
        "\n",
        "figure(figsize=(8, 6), dpi=150)\n",
        "plt.subplot(2,2,1),plt.imshow(img, cmap='gray'), plt.title('Imagen original')\n",
        "plt.xticks([]), plt.yticks([])\n",
        "plt.subplot(2,2,2),plt.imshow(imgLog3, cmap='gray'), plt.title('gamma = 3')\n",
        "plt.xticks([]), plt.yticks([])\n",
        "plt.subplot(2,2,3),plt.imshow(imgLog4, cmap='gray'), plt.title('gamma = 4')\n",
        "plt.xticks([]), plt.yticks([])\n",
        "plt.subplot(2,2,4),plt.imshow(imgLog5, cmap='gray'), plt.title('gamma = 5')\n",
        "plt.xticks([]), plt.yticks([])\n",
        "plt.show()"
      ],
      "metadata": {
        "id": "XsQNmoLFbyaR"
      },
      "execution_count": null,
      "outputs": []
    },
    {
      "cell_type": "code",
      "source": [
        "img2 = cv2.imread('Fig0308.tif', 0)\n",
        "imgLog3=imadjust(img2,0,1,0,1, 0.6)\n",
        "imgLog4=imadjust(img2,0,1,0,1, 0.4)\n",
        "imgLog5=imadjust(img2,0,1,0,1, 0.3)\n",
        "\n",
        "figure(figsize=(8, 6), dpi=150)\n",
        "plt.subplot(2,2,1),plt.imshow(img2, cmap='gray'), plt.title('Imagen original')\n",
        "plt.xticks([]), plt.yticks([])\n",
        "plt.subplot(2,2,2),plt.imshow(imgLog3, cmap='gray'), plt.title('gamma = 0.6')\n",
        "plt.xticks([]), plt.yticks([])\n",
        "plt.subplot(2,2,3),plt.imshow(imgLog4, cmap='gray'), plt.title('gamma = 0.4')\n",
        "plt.xticks([]), plt.yticks([])\n",
        "plt.subplot(2,2,4),plt.imshow(imgLog5, cmap='gray'), plt.title('gamma = 0.3')\n",
        "plt.xticks([]), plt.yticks([])\n",
        "plt.show()"
      ],
      "metadata": {
        "id": "XAi-rHpZbvJC"
      },
      "execution_count": null,
      "outputs": []
    }
  ]
}