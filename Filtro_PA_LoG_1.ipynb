{
  "nbformat": 4,
  "nbformat_minor": 0,
  "metadata": {
    "colab": {
      "name": "Filtro_PA_LoG_1.ipynb",
      "provenance": [],
      "collapsed_sections": [],
      "authorship_tag": "ABX9TyOfTjVEfp2dvPdtmX3p9fxw",
      "include_colab_link": true
    },
    "kernelspec": {
      "name": "python3",
      "display_name": "Python 3"
    },
    "language_info": {
      "name": "python"
    }
  },
  "cells": [
    {
      "cell_type": "markdown",
      "metadata": {
        "id": "view-in-github",
        "colab_type": "text"
      },
      "source": [
        "<a href=\"https://colab.research.google.com/github/JLMR-Code-Creator/Taller_VC_Codigo/blob/main/Filtro_PA_LoG_1.ipynb\" target=\"_parent\"><img src=\"https://colab.research.google.com/assets/colab-badge.svg\" alt=\"Open In Colab\"/></a>"
      ]
    },
    {
      "cell_type": "code",
      "execution_count": null,
      "metadata": {
        "id": "dSL9UlvToDSj"
      },
      "outputs": [],
      "source": [
        "from google.colab import files\n",
        "uploaded = files.upload()\n",
        "for fn in uploaded.keys():\n",
        "  print('Archivo \"{name}\" tamaño {length} bytes'.format(\n",
        "      name=fn, length=len(uploaded[fn])))"
      ]
    },
    {
      "cell_type": "code",
      "source": [
        "import numpy as np\n",
        "import cv2 as cv\n",
        "from matplotlib import pyplot as plt\n",
        "from matplotlib.pyplot import figure\n",
        "\n",
        "img = cv.imread('Fig0107.tif', cv.IMREAD_GRAYSCALE)\n",
        "plt.imshow(img, cmap='gray'), plt.title('Imagen original')\n",
        "plt.show()"
      ],
      "metadata": {
        "id": "0Yz3wHY6oFiw"
      },
      "execution_count": null,
      "outputs": []
    },
    {
      "cell_type": "code",
      "source": [
        "Gaussian1 = cv.GaussianBlur(img, (3, 3), 1)\n",
        "LoG1 = cv.Laplacian(Gaussian1, cv.CV_8U, ksize=3)\n",
        "#LoG1 = cv.Canny(LoG1, 0, 0)\n",
        "\n",
        "Gaussian2 = cv.GaussianBlur(img, (3, 3), 2)\n",
        "LoG2  = cv.Laplacian(Gaussian1, cv.CV_8U, ksize=3)\n",
        "#LoG2 = cv.Canny(LoG2, 0, 0)\n",
        "\n",
        "Gaussian3 = cv.GaussianBlur(img, (3, 3), 3)\n",
        "LoG3 = cv.Laplacian(Gaussian3, cv.CV_8U, ksize=3)\n",
        "#LoG3 = cv.Canny(LoG3, 0, 0)\n",
        "\n",
        "Gaussian4 = cv.GaussianBlur(img, (3, 3), 8)\n",
        "LoG4 = cv.Laplacian(Gaussian4, cv.CV_8U, ksize=3)\n",
        "#LoG4 = cv.Canny(LoG4, 200, 256)\n",
        "\n",
        "figure(figsize=(8, 6), dpi=200)\n",
        "plt.subplot(2,2,1),plt.imshow(LoG1, cmap = 'gray')\n",
        "plt.title('Sigma = 1'), plt.xticks([]), plt.yticks([])\n",
        "plt.subplot(2,2,2),plt.imshow(LoG2, cmap = 'gray')\n",
        "plt.title('Sigma = 2'), plt.xticks([]), plt.yticks([])\n",
        "plt.subplot(2,2,3),plt.imshow(LoG3, cmap = 'gray')\n",
        "plt.title('Sigma = 3'), plt.xticks([]), plt.yticks([])\n",
        "plt.subplot(2,2,4),plt.imshow(LoG4, cmap = 'gray')\n",
        "plt.title('Sigma = 4'), plt.xticks([]), plt.yticks([])\n",
        "plt.show()"
      ],
      "metadata": {
        "id": "0bolaxuxoJdv"
      },
      "execution_count": null,
      "outputs": []
    }
  ]
}