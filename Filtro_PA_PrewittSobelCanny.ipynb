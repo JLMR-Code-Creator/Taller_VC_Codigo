{
  "nbformat": 4,
  "nbformat_minor": 0,
  "metadata": {
    "colab": {
      "name": "Filtro_PA_PrewittSobelCanny.ipynb",
      "provenance": [],
      "collapsed_sections": [],
      "authorship_tag": "ABX9TyNMkoUMKgVt77wuwBZU3X8J",
      "include_colab_link": true
    },
    "kernelspec": {
      "name": "python3",
      "display_name": "Python 3"
    },
    "language_info": {
      "name": "python"
    }
  },
  "cells": [
    {
      "cell_type": "markdown",
      "metadata": {
        "id": "view-in-github",
        "colab_type": "text"
      },
      "source": [
        "<a href=\"https://colab.research.google.com/github/JLMR-Code-Creator/Taller_VC_Codigo/blob/main/Filtro_PA_PrewittSobelCanny.ipynb\" target=\"_parent\"><img src=\"https://colab.research.google.com/assets/colab-badge.svg\" alt=\"Open In Colab\"/></a>"
      ]
    },
    {
      "cell_type": "code",
      "execution_count": null,
      "metadata": {
        "id": "dSL9UlvToDSj"
      },
      "outputs": [],
      "source": [
        "from google.colab import files\n",
        "uploaded = files.upload()\n",
        "for fn in uploaded.keys():\n",
        "  print('Archivo \"{name}\" tamaño {length} bytes'.format(\n",
        "      name=fn, length=len(uploaded[fn])))"
      ]
    },
    {
      "cell_type": "code",
      "source": [
        "import numpy as np\n",
        "import cv2 as cv\n",
        "from matplotlib import pyplot as plt\n",
        "from matplotlib.pyplot import figure\n",
        "\n",
        "img = cv.imread('circuit.tif', 0)\t\n",
        "#img = cv.cvtColor(img, cv.COLOR_BGR2GRAY)\n",
        "\n",
        "\n",
        "kernelx = np.array([[1,1,1],[0,0,0],[-1,-1,-1]])\n",
        "kernely = np.array([[-1,0,1],[-1,0,1],[-1,0,1]])\n",
        "img_prewittx = cv.filter2D(img, -1, kernelx)\n",
        "img_prewitty = cv.filter2D(img, -1, kernely)\n",
        "prewitt = img_prewittx + img_prewitty\n",
        "\n",
        "img_sobel_x = cv.Sobel(img, cv.CV_8U, 1, 0, ksize=3)\n",
        "img_sobel_y = cv.Sobel(img, cv.CV_8U, 0, 1, ksize=3)\n",
        "sobel = img_sobel_x + img_sobel_y\n",
        "\n",
        "canny = cv.Canny(img, threshold1 = 50, threshold2 =255)"
      ],
      "metadata": {
        "id": "0Yz3wHY6oFiw"
      },
      "execution_count": null,
      "outputs": []
    },
    {
      "cell_type": "code",
      "source": [
        "figure(figsize=(8, 6), dpi=200)\n",
        "plt.subplot(2,2,1),plt.imshow(img), \n",
        "plt.title('Original'),\n",
        "plt.subplot(2,2,2),plt.imshow(prewitt, cmap = 'gray' )\n",
        "plt.title('Prewitt')\n",
        "plt.subplot(2,2,3),plt.imshow(sobel, cmap = 'gray')\n",
        "plt.title('Sobel')\n",
        "plt.subplot(2,2,4),plt.imshow(canny, cmap = 'gray')\n",
        "plt.title('canny')\n",
        "plt.show()"
      ],
      "metadata": {
        "id": "0bolaxuxoJdv"
      },
      "execution_count": null,
      "outputs": []
    }
  ]
}