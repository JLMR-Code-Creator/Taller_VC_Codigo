{
  "nbformat": 4,
  "nbformat_minor": 0,
  "metadata": {
    "colab": {
      "name": "Filtro_PA_Laplaciano_Gaussiano.ipynb",
      "provenance": [],
      "collapsed_sections": [],
      "authorship_tag": "ABX9TyMXmKtChuBuJwSrbpr06FS2",
      "include_colab_link": true
    },
    "kernelspec": {
      "name": "python3",
      "display_name": "Python 3"
    },
    "language_info": {
      "name": "python"
    }
  },
  "cells": [
    {
      "cell_type": "markdown",
      "metadata": {
        "id": "view-in-github",
        "colab_type": "text"
      },
      "source": [
        "<a href=\"https://colab.research.google.com/github/JLMR-Code-Creator/Taller_VC_Codigo/blob/main/Filtro_PA_Laplaciano_Gaussiano.ipynb\" target=\"_parent\"><img src=\"https://colab.research.google.com/assets/colab-badge.svg\" alt=\"Open In Colab\"/></a>"
      ]
    },
    {
      "cell_type": "code",
      "execution_count": null,
      "metadata": {
        "id": "dSL9UlvToDSj"
      },
      "outputs": [],
      "source": [
        "from google.colab import files\n",
        "uploaded = files.upload()\n",
        "for fn in uploaded.keys():\n",
        "  print('Archivo \"{name}\" tamaño {length} bytes'.format(\n",
        "      name=fn, length=len(uploaded[fn])))"
      ]
    },
    {
      "cell_type": "code",
      "source": [
        "import numpy as np\n",
        "import cv2 as cv\n",
        "from matplotlib import pyplot as plt\n",
        "from matplotlib.pyplot import figure\n",
        "\n",
        "img = cv.imread('Fig0333.tif', cv.IMREAD_GRAYSCALE)\n",
        "\n",
        "laplacian = np.array((\n",
        "\t[0, 1, 0],\n",
        "\t[1, -4, 1],\n",
        "\t[0, 1, 0]), dtype=\"int\")\n",
        "#display(laplacian)\n"
      ],
      "metadata": {
        "id": "0Yz3wHY6oFiw"
      },
      "execution_count": null,
      "outputs": []
    },
    {
      "cell_type": "code",
      "source": [
        "Gaussian = cv.GaussianBlur(img, (5, 5), 3)\n",
        "LoG = cv.filter2D(Gaussian, -1, laplacian)\n",
        "#Gaussian = cv.GaussianBlur(img, (5, 5), 3)\n",
        "#LoG = cv.Laplacian(Gaussian, cv.CV_8U, ksize=3)\n",
        "\n",
        "figure(figsize=(8, 6), dpi=200)\n",
        "plt.subplot(1,2,1),plt.imshow(img, cmap='gray'), plt.title('Imagen original')\n",
        "plt.subplot(1,2,2),plt.imshow(LoG, cmap='gray'), plt.title('Salida Filtro')\n",
        "plt.show()"
      ],
      "metadata": {
        "id": "0bolaxuxoJdv"
      },
      "execution_count": null,
      "outputs": []
    },
    {
      "cell_type": "code",
      "source": [
        "Gaussian = cv.GaussianBlur(img, (19, 19), 3)\n",
        "LoG = cv.Laplacian(Gaussian, cv.CV_8U, ksize=3)\n",
        "\n",
        "figure(figsize=(8, 6), dpi=200)\n",
        "plt.subplot(1,2,1),plt.imshow(img, cmap='gray'), plt.title('Imagen original')\n",
        "plt.subplot(1,2,2),plt.imshow(LoG, cmap='gray'), plt.title('Salida Filtro')\n",
        "plt.show()"
      ],
      "metadata": {
        "id": "OfBQBM-8y6nc"
      },
      "execution_count": null,
      "outputs": []
    }
  ]
}