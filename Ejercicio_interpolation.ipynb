{
  "nbformat": 4,
  "nbformat_minor": 0,
  "metadata": {
    "colab": {
      "name": "Ejercicio_interpolation.ipynb",
      "provenance": [],
      "collapsed_sections": [],
      "mount_file_id": "1jp5OFuNPyL_5ALoV5-B-t1UZlmcDf13Y",
      "authorship_tag": "ABX9TyNup/yTVlHMkobaLXyvx8Yv",
      "include_colab_link": true
    },
    "kernelspec": {
      "name": "python3",
      "display_name": "Python 3"
    },
    "language_info": {
      "name": "python"
    }
  },
  "cells": [
    {
      "cell_type": "markdown",
      "metadata": {
        "id": "view-in-github",
        "colab_type": "text"
      },
      "source": [
        "<a href=\"https://colab.research.google.com/github/JLMR-Code-Creator/Taller_VC_Codigo/blob/main/Ejercicio_interpolation.ipynb\" target=\"_parent\"><img src=\"https://colab.research.google.com/assets/colab-badge.svg\" alt=\"Open In Colab\"/></a>"
      ]
    },
    {
      "cell_type": "code",
      "source": [
        "from google.colab import files\n",
        "uploaded = files.upload()\n",
        "for fn in uploaded.keys():\n",
        "  print('User uploaded file \"{name}\" with length {length} bytes'.format(\n",
        "      name=fn, length=len(uploaded[fn])))"
      ],
      "metadata": {
        "id": "g7nhbpzs44fX"
      },
      "execution_count": null,
      "outputs": []
    },
    {
      "cell_type": "code",
      "execution_count": null,
      "metadata": {
        "id": "cis6Apf2pflb"
      },
      "outputs": [],
      "source": [
        "import cv2\n",
        "import numpy as np\n",
        "from matplotlib import pyplot as plt\n",
        "\n",
        "img = cv2.imread('Fig0219.tif', 0)\n",
        "\n",
        "width = 128 \n",
        "height = 128\n",
        "dim128 = (width, height)\n",
        "dim64 = (64, 64)\n",
        "dim32 = (32, 32)\n",
        "\n",
        "scaled_LINEAR_128 = cv2.resize(img, dim128, interpolation=cv2.INTER_LINEAR)\n",
        "scaled_LINEAR_64 = cv2.resize(img, dim64, interpolation=cv2.INTER_LINEAR)\n",
        "scaled_LINEAR_32 = cv2.resize(img, dim32, interpolation=cv2.INTER_LINEAR)\n",
        "\n",
        "scaled_NEAREST_128 = cv2.resize(img, dim128, interpolation=cv2.INTER_NEAREST)\n",
        "scaled_NEAREST_64 = cv2.resize(img, dim64, interpolation=cv2.INTER_NEAREST)\n",
        "scaled_NEAREST_32 = cv2.resize(img, dim32, interpolation=cv2.INTER_NEAREST)\n",
        "\n",
        "# scaled2 = cv2.resize(rotated30, dim, interpolation=cv2.INTER_CUBIC)\n",
        "\n",
        "plt.subplot(2,3,1),plt.imshow(scaled_LINEAR_128, cmap='gray'), plt.title('a')\n",
        "plt.xticks([]), plt.yticks([])\n",
        "plt.subplot(2,3,2),plt.imshow(scaled_LINEAR_64, cmap='gray'), plt.title('b')\n",
        "plt.xticks([]), plt.yticks([])\n",
        "plt.subplot(2,3,3),plt.imshow(scaled_LINEAR_32, cmap='gray'), plt.title('c')\n",
        "plt.xticks([]), plt.yticks([])\n",
        "plt.subplot(2,3,4),plt.imshow(scaled_NEAREST_128, cmap='gray'), plt.title('d')\n",
        "plt.xticks([]), plt.yticks([])\n",
        "plt.subplot(2,3,5),plt.imshow(scaled_NEAREST_64, cmap='gray'), plt.title('e')\n",
        "plt.xticks([]), plt.yticks([])\n",
        "plt.subplot(2,3,6),plt.imshow(scaled_NEAREST_32, cmap='gray'), plt.title('f')\n",
        "plt.xticks([]), plt.yticks([])\n",
        "plt.show()"
      ]
    }
  ]
}