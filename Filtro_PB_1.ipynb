{
  "nbformat": 4,
  "nbformat_minor": 0,
  "metadata": {
    "colab": {
      "name": "Filtro_PB_1.ipynb",
      "provenance": [],
      "collapsed_sections": [],
      "authorship_tag": "ABX9TyOqXglayUf8PT79dxTFMb3P",
      "include_colab_link": true
    },
    "kernelspec": {
      "name": "python3",
      "display_name": "Python 3"
    },
    "language_info": {
      "name": "python"
    }
  },
  "cells": [
    {
      "cell_type": "markdown",
      "metadata": {
        "id": "view-in-github",
        "colab_type": "text"
      },
      "source": [
        "<a href=\"https://colab.research.google.com/github/JLMR-Code-Creator/Taller_VC_Codigo/blob/main/Filtro_PB_1.ipynb\" target=\"_parent\"><img src=\"https://colab.research.google.com/assets/colab-badge.svg\" alt=\"Open In Colab\"/></a>"
      ]
    },
    {
      "cell_type": "code",
      "source": [
        "from google.colab import files\n",
        "uploaded = files.upload()\n",
        "for fn in uploaded.keys():\n",
        "  print('Archivo \"{name}\" tamaño {length} bytes'.format(\n",
        "      name=fn, length=len(uploaded[fn])))"
      ],
      "metadata": {
        "id": "NzRmUynNaUf8"
      },
      "execution_count": null,
      "outputs": []
    },
    {
      "cell_type": "code",
      "execution_count": null,
      "metadata": {
        "id": "Bu2r0Z4YXymG"
      },
      "outputs": [],
      "source": [
        "import numpy as np\n",
        "import cv2 as cv\n",
        "from matplotlib import pyplot as plt\n",
        "from matplotlib.pyplot import figure\n",
        "\n",
        "img = cv.imread('Fig0333.tif', cv.IMREAD_GRAYSCALE)\n",
        "\n",
        "kernel_3x3 = np.ones((3,3), np.float32) / 9.0\n",
        "#display(kernel_3x3)\n",
        "kernel_5x5 = np.ones((5,5),np.float32) / 25.0\n",
        "#display(kernel_5x5)\n",
        "kernel_9x9 = np.ones((9,9), np.float32) / 81.0\n",
        "\n"
      ]
    },
    {
      "cell_type": "code",
      "source": [
        "output3x3 = cv.filter2D(img, -1, kernel_3x3)\n",
        "output5x5 = cv.filter2D(img, -1, kernel_5x5)\n",
        "output7x7 = cv.filter2D(img, -1, kernel_9x9)\n",
        "\n",
        "\n",
        "figure(figsize=(8, 6), dpi=150)\n",
        "plt.subplot(2,2,1),plt.imshow(img, cmap='gray'), plt.title('Imagen original')\n",
        "plt.xticks([]), plt.yticks([])\n",
        "plt.subplot(2,2,2),plt.imshow(output3x3, cmap='gray'), plt.title('Imagen salida filtro 3x3')\n",
        "plt.xticks([]), plt.yticks([])\n",
        "plt.subplot(2,2,3),plt.imshow(output5x5, cmap='gray'), plt.title('Imagen salida filtro 5x5')\n",
        "plt.xticks([]), plt.yticks([])\n",
        "plt.subplot(2,2,4),plt.imshow(output7x7, cmap='gray'), plt.title('Imagen salida filtro 9x9')\n",
        "plt.xticks([]), plt.yticks([])\n",
        "plt.show()"
      ],
      "metadata": {
        "id": "Fz1md4i6b-y3"
      },
      "execution_count": null,
      "outputs": []
    }
  ]
}