{
  "nbformat": 4,
  "nbformat_minor": 0,
  "metadata": {
    "colab": {
      "name": "Filtro_PB_2.ipynb",
      "provenance": [],
      "collapsed_sections": [],
      "authorship_tag": "ABX9TyN5mLDx9Wh8aYoYTO1HYNOr",
      "include_colab_link": true
    },
    "kernelspec": {
      "name": "python3",
      "display_name": "Python 3"
    },
    "language_info": {
      "name": "python"
    }
  },
  "cells": [
    {
      "cell_type": "markdown",
      "metadata": {
        "id": "view-in-github",
        "colab_type": "text"
      },
      "source": [
        "<a href=\"https://colab.research.google.com/github/JLMR-Code-Creator/Taller_VC_Codigo/blob/main/Filtro_PB_2.ipynb\" target=\"_parent\"><img src=\"https://colab.research.google.com/assets/colab-badge.svg\" alt=\"Open In Colab\"/></a>"
      ]
    },
    {
      "cell_type": "code",
      "execution_count": null,
      "metadata": {
        "id": "dHPSqZYpd3cx"
      },
      "outputs": [],
      "source": [
        "from google.colab import files\n",
        "uploaded = files.upload()\n",
        "for fn in uploaded.keys():\n",
        "  print('Archivo \"{name}\" tamaño {length} bytes'.format(\n",
        "      name=fn, length=len(uploaded[fn])))"
      ]
    },
    {
      "cell_type": "code",
      "source": [
        "import numpy as np\n",
        "import cv2 as cv\n",
        "from matplotlib import pyplot as plt\n",
        "from matplotlib.pyplot import figure\n",
        "\n",
        "img = cv.imread('Fig0338.tif', cv.IMREAD_GRAYSCALE)\n",
        "\n",
        "kernel_3x3 = np.ones((3,3), np.float32) / 9.0\n",
        "#display(kernel_3x3)\n"
      ],
      "metadata": {
        "id": "2keGV818d75L"
      },
      "execution_count": null,
      "outputs": []
    },
    {
      "cell_type": "code",
      "source": [
        "from skimage.util import random_noise\n",
        "\n",
        "img_ruido = random_noise(img,  mode='gaussian', seed=None, clip=True, mean= 0, var = 0.05)\n",
        "img_ruido = cv.normalize(img_ruido, None, 0, 255, cv.NORM_MINMAX, cv.CV_8U)\n",
        "\n",
        "#gauss = np.random.normal(0, 1, img.size)\n",
        "#gauss = gauss.reshape(img.shape[0],img.shape[1]).astype('uint8')\n",
        "# Agregar ruido gaussiano a la imagen\n",
        "#img_ruido = cv.add(img,gauss)\n",
        "\n",
        "output3x3 = cv.filter2D(img_ruido, -1, kernel_3x3)\n",
        "blurred = cv.GaussianBlur(img_ruido, (3, 3), cv.BORDER_DEFAULT)\n",
        "\n",
        "figure(figsize=(8, 6), dpi=150)\n",
        "plt.subplot(2,2,1),plt.imshow(img, cmap='gray'), plt.title('Imagen original')\n",
        "plt.xticks([]), plt.yticks([])\n",
        "plt.subplot(2,2,2),plt.imshow(img_ruido, cmap='gray'), plt.title('Imagen con ruido gaussiano')\n",
        "plt.xticks([]), plt.yticks([])\n",
        "plt.subplot(2,2,3),plt.imshow(output3x3, cmap='gray'), plt.title('Imagen salida filtro 3x3')\n",
        "plt.xticks([]), plt.yticks([])\n",
        "plt.subplot(2,2,4),plt.imshow(blurred, cmap='gray'), plt.title('Imagen salida filtro Gaussiano 3x3')\n",
        "plt.xticks([]), plt.yticks([])\n",
        "plt.show()"
      ],
      "metadata": {
        "id": "CrSBVwqrd936"
      },
      "execution_count": null,
      "outputs": []
    }
  ]
}