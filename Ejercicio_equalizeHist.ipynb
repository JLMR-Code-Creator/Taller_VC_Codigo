{
  "nbformat": 4,
  "nbformat_minor": 0,
  "metadata": {
    "colab": {
      "name": "Ejercicio_equalizeHist.ipynb",
      "provenance": [],
      "collapsed_sections": [],
      "authorship_tag": "ABX9TyPOi05TAKsKERLf2nABNupu",
      "include_colab_link": true
    },
    "kernelspec": {
      "name": "python3",
      "display_name": "Python 3"
    },
    "language_info": {
      "name": "python"
    }
  },
  "cells": [
    {
      "cell_type": "markdown",
      "metadata": {
        "id": "view-in-github",
        "colab_type": "text"
      },
      "source": [
        "<a href=\"https://colab.research.google.com/github/JLMR-Code-Creator/Taller_VC_Codigo/blob/main/Ejercicio_equalizeHist.ipynb\" target=\"_parent\"><img src=\"https://colab.research.google.com/assets/colab-badge.svg\" alt=\"Open In Colab\"/></a>"
      ]
    },
    {
      "cell_type": "code",
      "execution_count": null,
      "metadata": {
        "id": "Ascfru-MNKEn"
      },
      "outputs": [],
      "source": [
        "from google.colab import files\n",
        "uploaded = files.upload()\n",
        "for fn in uploaded.keys():\n",
        "  print('Archivo \"{name}\" tamaño {length} bytes'.format(\n",
        "      name=fn, length=len(uploaded[fn])))"
      ]
    },
    {
      "cell_type": "code",
      "source": [
        "import cv2\n",
        "import numpy as np\n",
        "from matplotlib import pyplot as plt\n",
        "from matplotlib.pyplot import figure\n",
        "\n",
        "\n",
        "img_1 = cv2.imread('Fig0320_1.tif', cv2.IMREAD_GRAYSCALE)\n",
        "img_1_hist = cv2.calcHist([img_1], [0], None, [256], [0, 256])\n",
        "img_1_Eq = cv2.equalizeHist(img_1)\n",
        "img_1_Eq_hist =  cv2.calcHist([img_1_Eq],[0],None,[256],[0,256])\n",
        "\n",
        "img_2 = cv2.imread('Fig0320_2.tif', 0)\n",
        "img_2_hist = cv2.calcHist([img_2], [0], None, [256], [0, 256])\n",
        "img_2_Eq = cv2.equalizeHist(img_2)\n",
        "img_2_Eq_hist =  cv2.calcHist([img_2_Eq],[0],None,[256],[0,256])\n",
        "\n",
        "img_3 = cv2.imread('Fig0320_3.tif', 0)\n",
        "img_3_hist = cv2.calcHist([img_3], [0], None, [256], [0, 256])\n",
        "img_3_Eq = cv2.equalizeHist(img_3)\n",
        "img_3_Eq_hist =  cv2.calcHist([img_3_Eq],[0],None,[256],[0,256])\n",
        "\n",
        "img_4 = cv2.imread('Fig0320_4.tif', 0)\n",
        "img_4_hist = cv2.calcHist([img_4], [0], None, [256], [0, 256])\n",
        "img_4_Eq = cv2.equalizeHist(img_4)\n",
        "img_4_Eq_hist =  cv2.calcHist([img_4_Eq],[0],None,[256],[0,256])\n",
        "\n",
        "figure(figsize=(8, 6), dpi=150)\n",
        "\n",
        "plt.subplot(4,4,1),plt.imshow(img_1, cmap='gray'), plt.title('Imagen')\n",
        "plt.xticks([]), plt.yticks([])\n",
        "plt.subplot(4,4,2),plt.plot(img_1_hist), plt.title('Histograma')\n",
        "plt.xticks([]), plt.yticks([])\n",
        "plt.subplot(4,4,3),plt.imshow(img_1_Eq, cmap='gray'), plt.title('Imagen ecualizada')\n",
        "plt.xticks([]), plt.yticks([])\n",
        "plt.subplot(4,4,4),plt.plot(img_1_Eq_hist), plt.title('Histograma')\n",
        "plt.xticks([]), plt.yticks([])\n",
        "\n",
        "plt.subplot(4,4,5),plt.imshow(img_2, cmap='gray'), plt.title('Imagen')\n",
        "plt.xticks([]), plt.yticks([])\n",
        "plt.subplot(4,4,6),plt.plot(img_2_hist), plt.title('Histograma')\n",
        "plt.xticks([]), plt.yticks([])\n",
        "plt.subplot(4,4,7),plt.imshow(img_2_Eq, cmap='gray'), plt.title('Imagen ecualizada')\n",
        "plt.xticks([]), plt.yticks([])\n",
        "plt.subplot(4,4,8),plt.plot(img_2_Eq_hist), plt.title('Histograma')\n",
        "plt.xticks([]), plt.yticks([])\n",
        "\n",
        "plt.subplot(4,4,9),plt.imshow(img_3, cmap='gray'), plt.title('Imagen')\n",
        "plt.xticks([]), plt.yticks([])\n",
        "plt.subplot(4,4,10),plt.plot(img_3_hist), plt.title('Histograma')\n",
        "plt.xticks([]), plt.yticks([])\n",
        "plt.subplot(4,4,11),plt.imshow(img_3_Eq, cmap='gray'), plt.title('Imagen ecualizada')\n",
        "plt.xticks([]), plt.yticks([])\n",
        "plt.subplot(4,4,12),plt.plot(img_3_Eq_hist), plt.title('Histograma')\n",
        "plt.xticks([]), plt.yticks([])\n",
        "\n",
        "plt.subplot(4,4,13),plt.imshow(img_4, cmap='gray'), plt.title('Imagen')\n",
        "plt.xticks([]), plt.yticks([])\n",
        "plt.subplot(4,4,14),plt.plot(img_4_hist), plt.title('Histograma')\n",
        "plt.xticks([]), plt.yticks([])\n",
        "plt.subplot(4,4,15),plt.imshow(img_4_Eq, cmap='gray'), plt.title('Imagen ecualizada')\n",
        "plt.xticks([]), plt.yticks([])\n",
        "plt.subplot(4,4,16),plt.plot(img_4_Eq_hist), plt.title('Histograma')\n",
        "plt.xticks([]), plt.yticks([])\n",
        "\n",
        "plt.show()\n"
      ],
      "metadata": {
        "id": "jfkC_RLINOuK"
      },
      "execution_count": null,
      "outputs": []
    }
  ]
}