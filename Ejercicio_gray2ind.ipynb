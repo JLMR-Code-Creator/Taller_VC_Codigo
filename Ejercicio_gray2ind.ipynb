{
  "nbformat": 4,
  "nbformat_minor": 0,
  "metadata": {
    "colab": {
      "name": "Ejercicio_gray2ind.ipynb",
      "provenance": [],
      "collapsed_sections": [],
      "authorship_tag": "ABX9TyObwhLbl1rs0bwFHF42Cmd7",
      "include_colab_link": true
    },
    "kernelspec": {
      "name": "python3",
      "display_name": "Python 3"
    },
    "language_info": {
      "name": "python"
    }
  },
  "cells": [
    {
      "cell_type": "markdown",
      "metadata": {
        "id": "view-in-github",
        "colab_type": "text"
      },
      "source": [
        "<a href=\"https://colab.research.google.com/github/JLMR-Code-Creator/Taller_VC_Codigo/blob/main/Ejercicio_gray2ind.ipynb\" target=\"_parent\"><img src=\"https://colab.research.google.com/assets/colab-badge.svg\" alt=\"Open In Colab\"/></a>"
      ]
    },
    {
      "cell_type": "code",
      "execution_count": null,
      "metadata": {
        "id": "wacQ42Kd_jZ3"
      },
      "outputs": [],
      "source": [
        "from google.colab import files\n",
        "uploaded = files.upload()\n",
        "for fn in uploaded.keys():\n",
        "  print('Archivo \"{name}\" tamaño {length} bytes'.format(\n",
        "      name=fn, length=len(uploaded[fn])))"
      ]
    },
    {
      "cell_type": "code",
      "source": [
        "def gray2ind(img, k):\n",
        "  dim = img.shape\n",
        "  im1 = np.zeros((dim), dtype=np.uint8) \n",
        "  nivel=int(256/k) \n",
        "  for i in range(img.shape[0]):\n",
        "     for j in range(img.shape[1]):\n",
        "            im1[i][j]=int(img[i][j]/nivel)*nivel\n",
        "  return im1"
      ],
      "metadata": {
        "id": "VrwzT1pjxkuf"
      },
      "execution_count": null,
      "outputs": []
    },
    {
      "cell_type": "code",
      "source": [
        "import cv2\n",
        "import numpy as np\n",
        "from matplotlib import pyplot as plt\n",
        "\n",
        "img = cv2.imread('Fig0221.tif', 0)\n",
        "\n",
        "img16 = gray2ind(img, 16)\n",
        "img8 = gray2ind(img, 8)\n",
        "img4 = gray2ind(img, 4)\n",
        "img2 = gray2ind(img, 2)\n",
        "\n",
        "\n",
        "plt.subplot(2,2,1),plt.imshow(img16, cmap='gray'), plt.title('16 niveles de gris')\n",
        "plt.xticks([]), plt.yticks([])\n",
        "plt.subplot(2,2,2),plt.imshow(img8, cmap='gray'), plt.title('8 niveles de gris')\n",
        "plt.xticks([]), plt.yticks([])\n",
        "plt.subplot(2,2,3),plt.imshow(img4, cmap='gray'), plt.title('4 niveles de gris')\n",
        "plt.xticks([]), plt.yticks([])\n",
        "plt.subplot(2,2,4),plt.imshow(img2, cmap='gray'), plt.title('2 niveles de gris')\n",
        "plt.xticks([]), plt.yticks([])\n",
        "plt.show()"
      ],
      "metadata": {
        "id": "0DyP-ALStnAl"
      },
      "execution_count": null,
      "outputs": []
    }
  ]
}