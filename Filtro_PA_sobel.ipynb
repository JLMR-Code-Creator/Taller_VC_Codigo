{
  "nbformat": 4,
  "nbformat_minor": 0,
  "metadata": {
    "colab": {
      "name": "Filtro_PA_sobel.ipynb",
      "provenance": [],
      "collapsed_sections": [],
      "authorship_tag": "ABX9TyPGlzfIeI2NiOwQ7ZpF/7v4",
      "include_colab_link": true
    },
    "kernelspec": {
      "name": "python3",
      "display_name": "Python 3"
    },
    "language_info": {
      "name": "python"
    }
  },
  "cells": [
    {
      "cell_type": "markdown",
      "metadata": {
        "id": "view-in-github",
        "colab_type": "text"
      },
      "source": [
        "<a href=\"https://colab.research.google.com/github/JLMR-Code-Creator/Taller_VC_Codigo/blob/main/Filtro_PA_sobel.ipynb\" target=\"_parent\"><img src=\"https://colab.research.google.com/assets/colab-badge.svg\" alt=\"Open In Colab\"/></a>"
      ]
    },
    {
      "cell_type": "code",
      "execution_count": null,
      "metadata": {
        "id": "dSL9UlvToDSj"
      },
      "outputs": [],
      "source": [
        "from google.colab import files\n",
        "uploaded = files.upload()\n",
        "for fn in uploaded.keys():\n",
        "  print('Archivo \"{name}\" tamaño {length} bytes'.format(\n",
        "      name=fn, length=len(uploaded[fn])))"
      ]
    },
    {
      "cell_type": "code",
      "source": [
        "import numpy as np\n",
        "import cv2 as cv\n",
        "from matplotlib import pyplot as plt\n",
        "from matplotlib.pyplot import figure\n",
        "\n",
        "img = cv.imread('Fig0342.tif', cv.IMREAD_GRAYSCALE)\n",
        "\n",
        "img_sobel_x = cv.Sobel(img, cv.CV_8U, 1, 0, ksize=3)\n",
        "img_sobel_y = cv.Sobel(img, cv.CV_8U, 0, 1, ksize=3)\n"
      ],
      "metadata": {
        "id": "0Yz3wHY6oFiw"
      },
      "execution_count": null,
      "outputs": []
    },
    {
      "cell_type": "code",
      "source": [
        "figure(figsize=(8, 6), dpi=200)\n",
        "plt.subplot(2,2,1),plt.imshow(img, cmap = 'gray')\n",
        "plt.title('Original'), plt.xticks([]), plt.yticks([])\n",
        "plt.subplot(2,2,2),plt.imshow(img_sobel_x + img_sobel_y, cmap = 'gray')\n",
        "plt.title('Sobel'), plt.xticks([]), plt.yticks([])\n",
        "plt.subplot(2,2,3),plt.imshow(img_sobel_x, cmap = 'gray')\n",
        "plt.title('Sobel X'), plt.xticks([]), plt.yticks([])\n",
        "plt.subplot(2,2,4),plt.imshow(img_sobel_y, cmap = 'gray')\n",
        "plt.title('Sobel Y'), plt.xticks([]), plt.yticks([])\n",
        "plt.show()"
      ],
      "metadata": {
        "id": "0bolaxuxoJdv"
      },
      "execution_count": null,
      "outputs": []
    },
    {
      "cell_type": "code",
      "source": [
        "img = cv.imread('coins.tif', cv.IMREAD_GRAYSCALE)\n",
        "\n",
        "img_sobel_x = cv.Sobel(img, cv.CV_64F, 1, 0, ksize=3)\n",
        "img_sobel_y = cv.Sobel(img, cv.CV_64F, 0, 1, ksize=3)\n",
        "# La magnitud del gradiente es la raíz cuadrada de los gradientes al cuadrado en las direcciones x e y sumados.\n",
        "magnitude = np.sqrt((img_sobel_x ** 2) + (img_sobel_y ** 2))\n",
        "# La orientación del gradiente es la arcotangente de los gradientes en las direcciones x e y.\n",
        "orientation = np.arctan2(img_sobel_y, img_sobel_x) * (180 / np.pi)\n",
        "\n",
        "figure(figsize=(8, 6), dpi=200)\n",
        "plt.subplot(2,2,1),plt.imshow(magnitude, cmap = 'gray')\n",
        "plt.title('Magnitud del gradiente'), plt.xticks([]), plt.yticks([])\n",
        "plt.subplot(2,2,2),plt.imshow(orientation, cmap = 'gray')\n",
        "plt.title('Dirección del gradiente'), plt.xticks([]), plt.yticks([])\n",
        "plt.subplot(2,2,3),plt.imshow(img_sobel_x, cmap = 'gray')\n",
        "plt.title('Sobel X'), plt.xticks([]), plt.yticks([])\n",
        "plt.subplot(2,2,4),plt.imshow(img_sobel_y, cmap = 'gray')\n",
        "plt.title('Sobel Y'), plt.xticks([]), plt.yticks([])\n",
        "plt.show()"
      ],
      "metadata": {
        "id": "0DppZgGv1kMn"
      },
      "execution_count": null,
      "outputs": []
    }
  ]
}